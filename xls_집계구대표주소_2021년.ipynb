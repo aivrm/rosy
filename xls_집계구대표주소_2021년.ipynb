{
  "nbformat": 4,
  "nbformat_minor": 0,
  "metadata": {
    "colab": {
      "name": "xls_집계구대표주소_2021년.ipynb",
      "provenance": [],
      "collapsed_sections": [],
      "authorship_tag": "ABX9TyOayC8KUbBtuv1Vj4wgBRHB",
      "include_colab_link": true
    },
    "kernelspec": {
      "name": "python3",
      "display_name": "Python 3"
    },
    "language_info": {
      "name": "python"
    }
  },
  "cells": [
    {
      "cell_type": "markdown",
      "metadata": {
        "id": "view-in-github",
        "colab_type": "text"
      },
      "source": [
        "<a href=\"https://colab.research.google.com/github/aivrm/rosy/blob/main/xls_%EC%A7%91%EA%B3%84%EA%B5%AC%EB%8C%80%ED%91%9C%EC%A3%BC%EC%86%8C_2021%EB%85%84.ipynb\" target=\"_parent\"><img src=\"https://colab.research.google.com/assets/colab-badge.svg\" alt=\"Open In Colab\"/></a>"
      ]
    },
    {
      "cell_type": "code",
      "source": [
        "from google.colab import drive\n",
        "drive.mount('/content/drive')"
      ],
      "metadata": {
        "colab": {
          "base_uri": "https://localhost:8080/"
        },
        "id": "yOYrRdjwll_S",
        "outputId": "6f3d0f87-d26a-4661-9708-314e195cec37"
      },
      "execution_count": null,
      "outputs": [
        {
          "output_type": "stream",
          "name": "stdout",
          "text": [
            "Drive already mounted at /content/drive; to attempt to forcibly remount, call drive.mount(\"/content/drive\", force_remount=True).\n"
          ]
        }
      ]
    },
    {
      "cell_type": "markdown",
      "source": [
        "---\n",
        "**\"집계구\"란?**\n",
        "\n",
        "기초단위구를 결합시켜 만든 구역으로 기초단위구에 통계적 특성인 동질성, 동량성을 부가하여 확정한 근린지역 통계서비스 구역을 말한다.\n",
        "\n",
        "https://www.law.go.kr/LSW/admRulSideInfoP.do?langType=Ko&urlMode=admRulScJoRltInfoR&joChgYn=N&joNo=0002&joBrNo=00&docCls=jo&chrClsCd=010202&admRulSeq=2100000001732\n",
        "\n",
        "---"
      ],
      "metadata": {
        "id": "23uvW5H3wvo7"
      }
    },
    {
      "cell_type": "markdown",
      "source": [
        "---\n",
        "**집계구? 자치구인가요?**\n",
        "\n",
        "집계구는 자치구가 아닙니다. 자치구보다 훨씬 작은 구역단위입니다.<br>\n",
        "서울시는 424개의 행정기관, 467개의 법정동, 12,756개의 통, 99,098개의 반으로 이루어져있습니다.<br>\n",
        "(2010년 말기준) 집계구는 통계청에서 통계정보를 제공하기 위해 구축한 최소 통계구역 단위로서,<br>\n",
        "서울시 지역이 약 16,470개로 나뉘어져있습니다.<br>\n",
        "단순히 크기로만 비교한다면 통과 비슷하다고 할 수 있을 거 같습니다. 참고하시기 바랍니다.\n",
        "\n",
        "https://www.si.re.kr/node/47073\n",
        "\n",
        "---"
      ],
      "metadata": {
        "id": "WSQzPftpz5gh"
      }
    },
    {
      "cell_type": "code",
      "source": [
        "import pandas as pd"
      ],
      "metadata": {
        "id": "4F1Rh_aGlm0Z"
      },
      "execution_count": null,
      "outputs": []
    },
    {
      "cell_type": "code",
      "source": [
        "import matplotlib.pyplot as plt\n",
        "plt.rc('font', family='NanumGothic')"
      ],
      "metadata": {
        "id": "XO9JqtRBlvKs"
      },
      "execution_count": null,
      "outputs": []
    },
    {
      "cell_type": "code",
      "source": [
        "BASE_DIR = '/content/drive/MyDrive/_aiffel/_datathon_rosy/CrdCnsmptn/csv/'"
      ],
      "metadata": {
        "id": "QQMjFLT0lwjQ"
      },
      "execution_count": null,
      "outputs": []
    },
    {
      "cell_type": "code",
      "source": [
        "# df1 = pd.read_excel(BASE_DIR + '집계구대표주소_2021년.xlsx')"
      ],
      "metadata": {
        "id": "GlVQbjitvMiw"
      },
      "execution_count": null,
      "outputs": []
    },
    {
      "cell_type": "markdown",
      "source": [
        "```\n",
        "<class 'pandas.core.frame.DataFrame'>\n",
        "RangeIndex: 104107 entries, 0 to 104106\n",
        "Data columns (total 5 columns):\n",
        " #   Column                                                  Non-Null Count   Dtype  \n",
        "---  ------                                                  --------------   -----  \n",
        " 0   2021년 집계구코드                                             104107 non-null  int64  \n",
        " 1   도로명 주소(집계구 무게중심점에서 가장 가까운 건물 주소)                        104107 non-null  object \n",
        " 2   지번주소(집계구 무게중심점에서 가장 가까운 건물 주소)                          104107 non-null  object \n",
        " 3   ※ 도로명주소와 지번주소의 건물은 동일 건물이 아닐수 있어서 동일 주소값으로 사용할 수 없습니다.  2 non-null       object \n",
        " 4   @                                                       0 non-null       float64\n",
        "dtypes: float64(1), int64(1), object(3)\n",
        "memory usage: 4.0+ MB\n",
        "```"
      ],
      "metadata": {
        "id": "R6F5_ywuvwLI"
      }
    },
    {
      "cell_type": "code",
      "source": [
        "# df1 = pd.read_excel(BASE_DIR + '집계구대표주소_2021년.xlsx', sheet_name='Sheet1')"
      ],
      "metadata": {
        "id": "eCSgaihalyBo"
      },
      "execution_count": null,
      "outputs": []
    },
    {
      "cell_type": "markdown",
      "source": [
        "```\n",
        "<class 'pandas.core.frame.DataFrame'>\n",
        "RangeIndex: 104107 entries, 0 to 104106\n",
        "Data columns (total 4 columns):\n",
        " #   Column                                                  Non-Null Count   Dtype \n",
        "---  ------                                                  --------------   ----- \n",
        " 0   2021년 집계구코드                                             104107 non-null  int64 \n",
        " 1   도로명 주소(집계구 무게중심점에서 가장 가까운 건물 주소)                        104107 non-null  object\n",
        " 2   지번주소(집계구 무게중심점에서 가장 가까운 건물 주소)                          104107 non-null  object\n",
        " 3   ※ 도로명주소와 지번주소의 건물은 동일 건물이 아닐수 있어서 동일 주소값으로 사용할 수 없습니다.  2 non-null       object\n",
        "dtypes: int64(1), object(3)\n",
        "memory usage: 3.2+ MB\n",
        "```"
      ],
      "metadata": {
        "id": "GMlZYwz3vEjm"
      }
    },
    {
      "cell_type": "code",
      "source": [
        "df1 = pd.read_excel(BASE_DIR + '집계구대표주소_2021년.xlsx', sheet_name='Sheet1')"
      ],
      "metadata": {
        "id": "3m7y7lZ9vHG_"
      },
      "execution_count": null,
      "outputs": []
    },
    {
      "cell_type": "code",
      "source": [
        "df1.info()"
      ],
      "metadata": {
        "colab": {
          "base_uri": "https://localhost:8080/"
        },
        "id": "-mptPkanyULs",
        "outputId": "8aca0111-a3ef-4869-b6d0-e7c21444080b"
      },
      "execution_count": null,
      "outputs": [
        {
          "output_type": "stream",
          "name": "stdout",
          "text": [
            "<class 'pandas.core.frame.DataFrame'>\n",
            "RangeIndex: 104107 entries, 0 to 104106\n",
            "Data columns (total 5 columns):\n",
            " #   Column                                                  Non-Null Count   Dtype  \n",
            "---  ------                                                  --------------   -----  \n",
            " 0   2021년 집계구코드                                             104107 non-null  int64  \n",
            " 1   도로명 주소(집계구 무게중심점에서 가장 가까운 건물 주소)                        104107 non-null  object \n",
            " 2   지번주소(집계구 무게중심점에서 가장 가까운 건물 주소)                          104107 non-null  object \n",
            " 3   ※ 도로명주소와 지번주소의 건물은 동일 건물이 아닐수 있어서 동일 주소값으로 사용할 수 없습니다.  2 non-null       object \n",
            " 4   @                                                       0 non-null       float64\n",
            "dtypes: float64(1), int64(1), object(3)\n",
            "memory usage: 4.0+ MB\n"
          ]
        }
      ]
    },
    {
      "cell_type": "code",
      "source": [
        "df1"
      ],
      "metadata": {
        "colab": {
          "base_uri": "https://localhost:8080/",
          "height": 572
        },
        "id": "slaoVo9ol2Rp",
        "outputId": "ef93f871-58c3-4f0f-c536-b3881636282b"
      },
      "execution_count": null,
      "outputs": [
        {
          "output_type": "execute_result",
          "data": {
            "text/plain": [
              "          2021년 집계구코드 도로명 주소(집계구 무게중심점에서 가장 가까운 건물 주소)  \\\n",
              "0       1101053010001            서울특별시 종로구 자하문로6길 18-8   \n",
              "1       1101053020001            서울특별시 종로구 필운대로1길 35-2   \n",
              "2       1101053020002             서울특별시 종로구 사직로7길 3-14   \n",
              "3       1101053020003            서울특별시 종로구 사직로9길 15-25   \n",
              "4       1101053020004            서울특별시 종로구 자하문로1나길 7-6   \n",
              "...               ...                              ...   \n",
              "104102  3902062020002         제주특별자치도 서귀포시 예래로295번길 62   \n",
              "104103  3902062020005            제주특별자치도 서귀포시 상예로 4-11   \n",
              "104104  3902062020006     제주특별자치도 서귀포시 소보리당로29번길 56-62   \n",
              "104105  3902062020008        제주특별자치도 서귀포시 예래로141번길 5-6   \n",
              "104106  3902062020012            제주특별자치도 서귀포시 예래해안로 78   \n",
              "\n",
              "       지번주소(집계구 무게중심점에서 가장 가까운 건물 주소)  \\\n",
              "0                 서울특별시 종로구 사직동 35-17   \n",
              "1                  서울특별시 종로구 사직동 33-3   \n",
              "2                서울특별시 종로구 사직동 262-25   \n",
              "3               서울특별시 종로구 사직동 262-197   \n",
              "4                 서울특별시 종로구 사직동 175-2   \n",
              "...                               ...   \n",
              "104102           제주특별자치도 서귀포시 예래동 817   \n",
              "104103          제주특별자치도 서귀포시 예래동 1233   \n",
              "104104          제주특별자치도 서귀포시 예래동 3450   \n",
              "104105           제주특별자치도 서귀포시 예래동 778   \n",
              "104106        제주특별자치도 서귀포시 예래동 1774-2   \n",
              "\n",
              "       ※ 도로명주소와 지번주소의 건물은 동일 건물이 아닐수 있어서 동일 주소값으로 사용할 수 없습니다.   @  \n",
              "0       ※ 해당 주소는 집계구 중심점의 근사치 이므로 참고용 자료일뿐 해당 집계구를 대표하...     NaN  \n",
              "1       ※ 지번주소는 행정동 + 지번본번 + 지번부본 으로 구성되어 일반 법정동 주소와는 ...     NaN  \n",
              "2                                                     NaN     NaN  \n",
              "3                                                     NaN     NaN  \n",
              "4                                                     NaN     NaN  \n",
              "...                                                   ...      ..  \n",
              "104102                                                NaN     NaN  \n",
              "104103                                                NaN     NaN  \n",
              "104104                                                NaN     NaN  \n",
              "104105                                                NaN     NaN  \n",
              "104106                                                NaN     NaN  \n",
              "\n",
              "[104107 rows x 5 columns]"
            ],
            "text/html": [
              "\n",
              "  <div id=\"df-b36ee75f-7e87-40de-800c-625ceb17e1f2\">\n",
              "    <div class=\"colab-df-container\">\n",
              "      <div>\n",
              "<style scoped>\n",
              "    .dataframe tbody tr th:only-of-type {\n",
              "        vertical-align: middle;\n",
              "    }\n",
              "\n",
              "    .dataframe tbody tr th {\n",
              "        vertical-align: top;\n",
              "    }\n",
              "\n",
              "    .dataframe thead th {\n",
              "        text-align: right;\n",
              "    }\n",
              "</style>\n",
              "<table border=\"1\" class=\"dataframe\">\n",
              "  <thead>\n",
              "    <tr style=\"text-align: right;\">\n",
              "      <th></th>\n",
              "      <th>2021년 집계구코드</th>\n",
              "      <th>도로명 주소(집계구 무게중심점에서 가장 가까운 건물 주소)</th>\n",
              "      <th>지번주소(집계구 무게중심점에서 가장 가까운 건물 주소)</th>\n",
              "      <th>※ 도로명주소와 지번주소의 건물은 동일 건물이 아닐수 있어서 동일 주소값으로 사용할 수 없습니다.</th>\n",
              "      <th>@</th>\n",
              "    </tr>\n",
              "  </thead>\n",
              "  <tbody>\n",
              "    <tr>\n",
              "      <th>0</th>\n",
              "      <td>1101053010001</td>\n",
              "      <td>서울특별시 종로구 자하문로6길 18-8</td>\n",
              "      <td>서울특별시 종로구 사직동 35-17</td>\n",
              "      <td>※ 해당 주소는 집계구 중심점의 근사치 이므로 참고용 자료일뿐 해당 집계구를 대표하...</td>\n",
              "      <td>NaN</td>\n",
              "    </tr>\n",
              "    <tr>\n",
              "      <th>1</th>\n",
              "      <td>1101053020001</td>\n",
              "      <td>서울특별시 종로구 필운대로1길 35-2</td>\n",
              "      <td>서울특별시 종로구 사직동 33-3</td>\n",
              "      <td>※ 지번주소는 행정동 + 지번본번 + 지번부본 으로 구성되어 일반 법정동 주소와는 ...</td>\n",
              "      <td>NaN</td>\n",
              "    </tr>\n",
              "    <tr>\n",
              "      <th>2</th>\n",
              "      <td>1101053020002</td>\n",
              "      <td>서울특별시 종로구 사직로7길 3-14</td>\n",
              "      <td>서울특별시 종로구 사직동 262-25</td>\n",
              "      <td>NaN</td>\n",
              "      <td>NaN</td>\n",
              "    </tr>\n",
              "    <tr>\n",
              "      <th>3</th>\n",
              "      <td>1101053020003</td>\n",
              "      <td>서울특별시 종로구 사직로9길 15-25</td>\n",
              "      <td>서울특별시 종로구 사직동 262-197</td>\n",
              "      <td>NaN</td>\n",
              "      <td>NaN</td>\n",
              "    </tr>\n",
              "    <tr>\n",
              "      <th>4</th>\n",
              "      <td>1101053020004</td>\n",
              "      <td>서울특별시 종로구 자하문로1나길 7-6</td>\n",
              "      <td>서울특별시 종로구 사직동 175-2</td>\n",
              "      <td>NaN</td>\n",
              "      <td>NaN</td>\n",
              "    </tr>\n",
              "    <tr>\n",
              "      <th>...</th>\n",
              "      <td>...</td>\n",
              "      <td>...</td>\n",
              "      <td>...</td>\n",
              "      <td>...</td>\n",
              "      <td>...</td>\n",
              "    </tr>\n",
              "    <tr>\n",
              "      <th>104102</th>\n",
              "      <td>3902062020002</td>\n",
              "      <td>제주특별자치도 서귀포시 예래로295번길 62</td>\n",
              "      <td>제주특별자치도 서귀포시 예래동 817</td>\n",
              "      <td>NaN</td>\n",
              "      <td>NaN</td>\n",
              "    </tr>\n",
              "    <tr>\n",
              "      <th>104103</th>\n",
              "      <td>3902062020005</td>\n",
              "      <td>제주특별자치도 서귀포시 상예로 4-11</td>\n",
              "      <td>제주특별자치도 서귀포시 예래동 1233</td>\n",
              "      <td>NaN</td>\n",
              "      <td>NaN</td>\n",
              "    </tr>\n",
              "    <tr>\n",
              "      <th>104104</th>\n",
              "      <td>3902062020006</td>\n",
              "      <td>제주특별자치도 서귀포시 소보리당로29번길 56-62</td>\n",
              "      <td>제주특별자치도 서귀포시 예래동 3450</td>\n",
              "      <td>NaN</td>\n",
              "      <td>NaN</td>\n",
              "    </tr>\n",
              "    <tr>\n",
              "      <th>104105</th>\n",
              "      <td>3902062020008</td>\n",
              "      <td>제주특별자치도 서귀포시 예래로141번길 5-6</td>\n",
              "      <td>제주특별자치도 서귀포시 예래동 778</td>\n",
              "      <td>NaN</td>\n",
              "      <td>NaN</td>\n",
              "    </tr>\n",
              "    <tr>\n",
              "      <th>104106</th>\n",
              "      <td>3902062020012</td>\n",
              "      <td>제주특별자치도 서귀포시 예래해안로 78</td>\n",
              "      <td>제주특별자치도 서귀포시 예래동 1774-2</td>\n",
              "      <td>NaN</td>\n",
              "      <td>NaN</td>\n",
              "    </tr>\n",
              "  </tbody>\n",
              "</table>\n",
              "<p>104107 rows × 5 columns</p>\n",
              "</div>\n",
              "      <button class=\"colab-df-convert\" onclick=\"convertToInteractive('df-b36ee75f-7e87-40de-800c-625ceb17e1f2')\"\n",
              "              title=\"Convert this dataframe to an interactive table.\"\n",
              "              style=\"display:none;\">\n",
              "        \n",
              "  <svg xmlns=\"http://www.w3.org/2000/svg\" height=\"24px\"viewBox=\"0 0 24 24\"\n",
              "       width=\"24px\">\n",
              "    <path d=\"M0 0h24v24H0V0z\" fill=\"none\"/>\n",
              "    <path d=\"M18.56 5.44l.94 2.06.94-2.06 2.06-.94-2.06-.94-.94-2.06-.94 2.06-2.06.94zm-11 1L8.5 8.5l.94-2.06 2.06-.94-2.06-.94L8.5 2.5l-.94 2.06-2.06.94zm10 10l.94 2.06.94-2.06 2.06-.94-2.06-.94-.94-2.06-.94 2.06-2.06.94z\"/><path d=\"M17.41 7.96l-1.37-1.37c-.4-.4-.92-.59-1.43-.59-.52 0-1.04.2-1.43.59L10.3 9.45l-7.72 7.72c-.78.78-.78 2.05 0 2.83L4 21.41c.39.39.9.59 1.41.59.51 0 1.02-.2 1.41-.59l7.78-7.78 2.81-2.81c.8-.78.8-2.07 0-2.86zM5.41 20L4 18.59l7.72-7.72 1.47 1.35L5.41 20z\"/>\n",
              "  </svg>\n",
              "      </button>\n",
              "      \n",
              "  <style>\n",
              "    .colab-df-container {\n",
              "      display:flex;\n",
              "      flex-wrap:wrap;\n",
              "      gap: 12px;\n",
              "    }\n",
              "\n",
              "    .colab-df-convert {\n",
              "      background-color: #E8F0FE;\n",
              "      border: none;\n",
              "      border-radius: 50%;\n",
              "      cursor: pointer;\n",
              "      display: none;\n",
              "      fill: #1967D2;\n",
              "      height: 32px;\n",
              "      padding: 0 0 0 0;\n",
              "      width: 32px;\n",
              "    }\n",
              "\n",
              "    .colab-df-convert:hover {\n",
              "      background-color: #E2EBFA;\n",
              "      box-shadow: 0px 1px 2px rgba(60, 64, 67, 0.3), 0px 1px 3px 1px rgba(60, 64, 67, 0.15);\n",
              "      fill: #174EA6;\n",
              "    }\n",
              "\n",
              "    [theme=dark] .colab-df-convert {\n",
              "      background-color: #3B4455;\n",
              "      fill: #D2E3FC;\n",
              "    }\n",
              "\n",
              "    [theme=dark] .colab-df-convert:hover {\n",
              "      background-color: #434B5C;\n",
              "      box-shadow: 0px 1px 3px 1px rgba(0, 0, 0, 0.15);\n",
              "      filter: drop-shadow(0px 1px 2px rgba(0, 0, 0, 0.3));\n",
              "      fill: #FFFFFF;\n",
              "    }\n",
              "  </style>\n",
              "\n",
              "      <script>\n",
              "        const buttonEl =\n",
              "          document.querySelector('#df-b36ee75f-7e87-40de-800c-625ceb17e1f2 button.colab-df-convert');\n",
              "        buttonEl.style.display =\n",
              "          google.colab.kernel.accessAllowed ? 'block' : 'none';\n",
              "\n",
              "        async function convertToInteractive(key) {\n",
              "          const element = document.querySelector('#df-b36ee75f-7e87-40de-800c-625ceb17e1f2');\n",
              "          const dataTable =\n",
              "            await google.colab.kernel.invokeFunction('convertToInteractive',\n",
              "                                                     [key], {});\n",
              "          if (!dataTable) return;\n",
              "\n",
              "          const docLinkHtml = 'Like what you see? Visit the ' +\n",
              "            '<a target=\"_blank\" href=https://colab.research.google.com/notebooks/data_table.ipynb>data table notebook</a>'\n",
              "            + ' to learn more about interactive tables.';\n",
              "          element.innerHTML = '';\n",
              "          dataTable['output_type'] = 'display_data';\n",
              "          await google.colab.output.renderOutput(dataTable, element);\n",
              "          const docLink = document.createElement('div');\n",
              "          docLink.innerHTML = docLinkHtml;\n",
              "          element.appendChild(docLink);\n",
              "        }\n",
              "      </script>\n",
              "    </div>\n",
              "  </div>\n",
              "  "
            ]
          },
          "metadata": {},
          "execution_count": 62
        }
      ]
    },
    {
      "cell_type": "code",
      "source": [
        ""
      ],
      "metadata": {
        "id": "cFw7m1yGhEhP"
      },
      "execution_count": null,
      "outputs": []
    }
  ]
}