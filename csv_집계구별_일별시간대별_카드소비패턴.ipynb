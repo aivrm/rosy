{
  "nbformat": 4,
  "nbformat_minor": 0,
  "metadata": {
    "colab": {
      "name": "csv_집계구별 일별시간대별 카드소비패턴.ipynb",
      "provenance": [],
      "collapsed_sections": [],
      "authorship_tag": "ABX9TyM9df5SSSfexjbcBAN3BJ84",
      "include_colab_link": true
    },
    "kernelspec": {
      "name": "python3",
      "display_name": "Python 3"
    },
    "language_info": {
      "name": "python"
    }
  },
  "cells": [
    {
      "cell_type": "markdown",
      "metadata": {
        "id": "view-in-github",
        "colab_type": "text"
      },
      "source": [
        "<a href=\"https://colab.research.google.com/github/aivrm/rosy/blob/main/csv_%EC%A7%91%EA%B3%84%EA%B5%AC%EB%B3%84_%EC%9D%BC%EB%B3%84%EC%8B%9C%EA%B0%84%EB%8C%80%EB%B3%84_%EC%B9%B4%EB%93%9C%EC%86%8C%EB%B9%84%ED%8C%A8%ED%84%B4.ipynb\" target=\"_parent\"><img src=\"https://colab.research.google.com/assets/colab-badge.svg\" alt=\"Open In Colab\"/></a>"
      ]
    },
    {
      "cell_type": "code",
      "execution_count": 1,
      "metadata": {
        "id": "zpdIV5MNOwwy"
      },
      "outputs": [],
      "source": [
        "csv_path = '/content/drive/MyDrive/_aiffel/_datathon_rosy/CrdCnsmptn/csv/집계구별 일별시간대별 카드소비패턴.csv'"
      ]
    },
    {
      "cell_type": "code",
      "source": [
        "import pandas as pd"
      ],
      "metadata": {
        "id": "Vj-pWJYiPm8L"
      },
      "execution_count": 2,
      "outputs": []
    },
    {
      "cell_type": "code",
      "source": [
        ""
      ],
      "metadata": {
        "id": "FC16-DP2QwMU"
      },
      "execution_count": 2,
      "outputs": []
    }
  ]
}