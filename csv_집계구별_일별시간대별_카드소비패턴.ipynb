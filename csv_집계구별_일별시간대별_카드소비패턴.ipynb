{
  "nbformat": 4,
  "nbformat_minor": 0,
  "metadata": {
    "colab": {
      "name": "csv_집계구별 일별시간대별 카드소비패턴.ipynb",
      "provenance": [],
      "collapsed_sections": [],
      "authorship_tag": "ABX9TyOpJ5+1ZF2PMOx9edXv/Ke8",
      "include_colab_link": true
    },
    "kernelspec": {
      "name": "python3",
      "display_name": "Python 3"
    },
    "language_info": {
      "name": "python"
    }
  },
  "cells": [
    {
      "cell_type": "markdown",
      "metadata": {
        "id": "view-in-github",
        "colab_type": "text"
      },
      "source": [
        "<a href=\"https://colab.research.google.com/github/aivrm/rosy/blob/main/csv_%EC%A7%91%EA%B3%84%EA%B5%AC%EB%B3%84_%EC%9D%BC%EB%B3%84%EC%8B%9C%EA%B0%84%EB%8C%80%EB%B3%84_%EC%B9%B4%EB%93%9C%EC%86%8C%EB%B9%84%ED%8C%A8%ED%84%B4.ipynb\" target=\"_parent\"><img src=\"https://colab.research.google.com/assets/colab-badge.svg\" alt=\"Open In Colab\"/></a>"
      ]
    },
    {
      "cell_type": "code",
      "source": [
        "from google.colab import drive\n",
        "drive.mount('/content/drive')"
      ],
      "metadata": {
        "colab": {
          "base_uri": "https://localhost:8080/"
        },
        "id": "CTNWJnx4cHJd",
        "outputId": "3b5a8556-a2d6-4f35-84cb-f82ebd19789e"
      },
      "execution_count": null,
      "outputs": [
        {
          "output_type": "stream",
          "name": "stdout",
          "text": [
            "Drive already mounted at /content/drive; to attempt to forcibly remount, call drive.mount(\"/content/drive\", force_remount=True).\n"
          ]
        }
      ]
    },
    {
      "cell_type": "code",
      "execution_count": null,
      "metadata": {
        "id": "zpdIV5MNOwwy"
      },
      "outputs": [],
      "source": [
        "csv_path = '/content/drive/MyDrive/_aiffel/_datathon_rosy/CrdCnsmptn/csv/'"
      ]
    },
    {
      "cell_type": "code",
      "source": [
        "import pandas as pd"
      ],
      "metadata": {
        "id": "Vj-pWJYiPm8L"
      },
      "execution_count": null,
      "outputs": []
    },
    {
      "cell_type": "code",
      "source": [
        "import matplotlib.pyplot as plt\n",
        "plt.rc('font', family='NanumGothic')"
      ],
      "metadata": {
        "id": "fL4lqryucTzg"
      },
      "execution_count": null,
      "outputs": []
    },
    {
      "cell_type": "code",
      "source": [
        "BASE_DIR = '/content/drive/MyDrive/_aiffel/_datathon_rosy/CrdCnsmptn/csv/'"
      ],
      "metadata": {
        "id": "FC16-DP2QwMU"
      },
      "execution_count": null,
      "outputs": []
    },
    {
      "cell_type": "code",
      "source": [
        "df1 = pd.read_csv(BASE_DIR + '집계구별 일별시간대별 카드소비패턴.csv', encoding='cp949')"
      ],
      "metadata": {
        "id": "QeI7ukLIcabg"
      },
      "execution_count": null,
      "outputs": []
    },
    {
      "cell_type": "code",
      "source": [
        "df1"
      ],
      "metadata": {
        "id": "VvTCrDokcnD-",
        "outputId": "9466f92d-4bfd-4ce4-e8df-b272efea63b1",
        "colab": {
          "base_uri": "https://localhost:8080/",
          "height": 485
        }
      },
      "execution_count": null,
      "outputs": [
        {
          "output_type": "execute_result",
          "data": {
            "text/plain": [
              "    업종대분류(UPJONG_CLASS1)  기준일자(YMD)  시간대구간(TIME)  고객주소집계구별(TOT_REG_CD)  \\\n",
              "0                  요식/유흥   20161004            6         1123076010009   \n",
              "1                     유통   20210303            5         1122060030003   \n",
              "2                     유통   20170606            6         1123066022301   \n",
              "3              스포츠/문화/레저   20171206            5         1124075020103   \n",
              "4                     의료   20160909            6         1113075030002   \n",
              "..                   ...        ...          ...                   ...   \n",
              "495                전자상거래   20170727            2         1120069010006   \n",
              "496                   유통   20190406            3         1123072010303   \n",
              "497                교육/학원   20210107            3         1119072030101   \n",
              "498                전자상거래   20200426            4         1105063030203   \n",
              "499                여행/교통   20160625            4         1103072030001   \n",
              "\n",
              "     카드이용금액계(AMT_CORR)  카드이용건수계(USECT_CORR)  \n",
              "0               104624                   10  \n",
              "1               382592                   20  \n",
              "2               341688                    5  \n",
              "3               925118                    5  \n",
              "4               217985                   50  \n",
              "..                 ...                  ...  \n",
              "495              90540                   25  \n",
              "496            1211325                   20  \n",
              "497             266590                   15  \n",
              "498             547264                   25  \n",
              "499           10559831                    5  \n",
              "\n",
              "[500 rows x 6 columns]"
            ],
            "text/html": [
              "\n",
              "  <div id=\"df-acdad91e-686d-420f-8a27-e193c5ba1f9d\">\n",
              "    <div class=\"colab-df-container\">\n",
              "      <div>\n",
              "<style scoped>\n",
              "    .dataframe tbody tr th:only-of-type {\n",
              "        vertical-align: middle;\n",
              "    }\n",
              "\n",
              "    .dataframe tbody tr th {\n",
              "        vertical-align: top;\n",
              "    }\n",
              "\n",
              "    .dataframe thead th {\n",
              "        text-align: right;\n",
              "    }\n",
              "</style>\n",
              "<table border=\"1\" class=\"dataframe\">\n",
              "  <thead>\n",
              "    <tr style=\"text-align: right;\">\n",
              "      <th></th>\n",
              "      <th>업종대분류(UPJONG_CLASS1)</th>\n",
              "      <th>기준일자(YMD)</th>\n",
              "      <th>시간대구간(TIME)</th>\n",
              "      <th>고객주소집계구별(TOT_REG_CD)</th>\n",
              "      <th>카드이용금액계(AMT_CORR)</th>\n",
              "      <th>카드이용건수계(USECT_CORR)</th>\n",
              "    </tr>\n",
              "  </thead>\n",
              "  <tbody>\n",
              "    <tr>\n",
              "      <th>0</th>\n",
              "      <td>요식/유흥</td>\n",
              "      <td>20161004</td>\n",
              "      <td>6</td>\n",
              "      <td>1123076010009</td>\n",
              "      <td>104624</td>\n",
              "      <td>10</td>\n",
              "    </tr>\n",
              "    <tr>\n",
              "      <th>1</th>\n",
              "      <td>유통</td>\n",
              "      <td>20210303</td>\n",
              "      <td>5</td>\n",
              "      <td>1122060030003</td>\n",
              "      <td>382592</td>\n",
              "      <td>20</td>\n",
              "    </tr>\n",
              "    <tr>\n",
              "      <th>2</th>\n",
              "      <td>유통</td>\n",
              "      <td>20170606</td>\n",
              "      <td>6</td>\n",
              "      <td>1123066022301</td>\n",
              "      <td>341688</td>\n",
              "      <td>5</td>\n",
              "    </tr>\n",
              "    <tr>\n",
              "      <th>3</th>\n",
              "      <td>스포츠/문화/레저</td>\n",
              "      <td>20171206</td>\n",
              "      <td>5</td>\n",
              "      <td>1124075020103</td>\n",
              "      <td>925118</td>\n",
              "      <td>5</td>\n",
              "    </tr>\n",
              "    <tr>\n",
              "      <th>4</th>\n",
              "      <td>의료</td>\n",
              "      <td>20160909</td>\n",
              "      <td>6</td>\n",
              "      <td>1113075030002</td>\n",
              "      <td>217985</td>\n",
              "      <td>50</td>\n",
              "    </tr>\n",
              "    <tr>\n",
              "      <th>...</th>\n",
              "      <td>...</td>\n",
              "      <td>...</td>\n",
              "      <td>...</td>\n",
              "      <td>...</td>\n",
              "      <td>...</td>\n",
              "      <td>...</td>\n",
              "    </tr>\n",
              "    <tr>\n",
              "      <th>495</th>\n",
              "      <td>전자상거래</td>\n",
              "      <td>20170727</td>\n",
              "      <td>2</td>\n",
              "      <td>1120069010006</td>\n",
              "      <td>90540</td>\n",
              "      <td>25</td>\n",
              "    </tr>\n",
              "    <tr>\n",
              "      <th>496</th>\n",
              "      <td>유통</td>\n",
              "      <td>20190406</td>\n",
              "      <td>3</td>\n",
              "      <td>1123072010303</td>\n",
              "      <td>1211325</td>\n",
              "      <td>20</td>\n",
              "    </tr>\n",
              "    <tr>\n",
              "      <th>497</th>\n",
              "      <td>교육/학원</td>\n",
              "      <td>20210107</td>\n",
              "      <td>3</td>\n",
              "      <td>1119072030101</td>\n",
              "      <td>266590</td>\n",
              "      <td>15</td>\n",
              "    </tr>\n",
              "    <tr>\n",
              "      <th>498</th>\n",
              "      <td>전자상거래</td>\n",
              "      <td>20200426</td>\n",
              "      <td>4</td>\n",
              "      <td>1105063030203</td>\n",
              "      <td>547264</td>\n",
              "      <td>25</td>\n",
              "    </tr>\n",
              "    <tr>\n",
              "      <th>499</th>\n",
              "      <td>여행/교통</td>\n",
              "      <td>20160625</td>\n",
              "      <td>4</td>\n",
              "      <td>1103072030001</td>\n",
              "      <td>10559831</td>\n",
              "      <td>5</td>\n",
              "    </tr>\n",
              "  </tbody>\n",
              "</table>\n",
              "<p>500 rows × 6 columns</p>\n",
              "</div>\n",
              "      <button class=\"colab-df-convert\" onclick=\"convertToInteractive('df-acdad91e-686d-420f-8a27-e193c5ba1f9d')\"\n",
              "              title=\"Convert this dataframe to an interactive table.\"\n",
              "              style=\"display:none;\">\n",
              "        \n",
              "  <svg xmlns=\"http://www.w3.org/2000/svg\" height=\"24px\"viewBox=\"0 0 24 24\"\n",
              "       width=\"24px\">\n",
              "    <path d=\"M0 0h24v24H0V0z\" fill=\"none\"/>\n",
              "    <path d=\"M18.56 5.44l.94 2.06.94-2.06 2.06-.94-2.06-.94-.94-2.06-.94 2.06-2.06.94zm-11 1L8.5 8.5l.94-2.06 2.06-.94-2.06-.94L8.5 2.5l-.94 2.06-2.06.94zm10 10l.94 2.06.94-2.06 2.06-.94-2.06-.94-.94-2.06-.94 2.06-2.06.94z\"/><path d=\"M17.41 7.96l-1.37-1.37c-.4-.4-.92-.59-1.43-.59-.52 0-1.04.2-1.43.59L10.3 9.45l-7.72 7.72c-.78.78-.78 2.05 0 2.83L4 21.41c.39.39.9.59 1.41.59.51 0 1.02-.2 1.41-.59l7.78-7.78 2.81-2.81c.8-.78.8-2.07 0-2.86zM5.41 20L4 18.59l7.72-7.72 1.47 1.35L5.41 20z\"/>\n",
              "  </svg>\n",
              "      </button>\n",
              "      \n",
              "  <style>\n",
              "    .colab-df-container {\n",
              "      display:flex;\n",
              "      flex-wrap:wrap;\n",
              "      gap: 12px;\n",
              "    }\n",
              "\n",
              "    .colab-df-convert {\n",
              "      background-color: #E8F0FE;\n",
              "      border: none;\n",
              "      border-radius: 50%;\n",
              "      cursor: pointer;\n",
              "      display: none;\n",
              "      fill: #1967D2;\n",
              "      height: 32px;\n",
              "      padding: 0 0 0 0;\n",
              "      width: 32px;\n",
              "    }\n",
              "\n",
              "    .colab-df-convert:hover {\n",
              "      background-color: #E2EBFA;\n",
              "      box-shadow: 0px 1px 2px rgba(60, 64, 67, 0.3), 0px 1px 3px 1px rgba(60, 64, 67, 0.15);\n",
              "      fill: #174EA6;\n",
              "    }\n",
              "\n",
              "    [theme=dark] .colab-df-convert {\n",
              "      background-color: #3B4455;\n",
              "      fill: #D2E3FC;\n",
              "    }\n",
              "\n",
              "    [theme=dark] .colab-df-convert:hover {\n",
              "      background-color: #434B5C;\n",
              "      box-shadow: 0px 1px 3px 1px rgba(0, 0, 0, 0.15);\n",
              "      filter: drop-shadow(0px 1px 2px rgba(0, 0, 0, 0.3));\n",
              "      fill: #FFFFFF;\n",
              "    }\n",
              "  </style>\n",
              "\n",
              "      <script>\n",
              "        const buttonEl =\n",
              "          document.querySelector('#df-acdad91e-686d-420f-8a27-e193c5ba1f9d button.colab-df-convert');\n",
              "        buttonEl.style.display =\n",
              "          google.colab.kernel.accessAllowed ? 'block' : 'none';\n",
              "\n",
              "        async function convertToInteractive(key) {\n",
              "          const element = document.querySelector('#df-acdad91e-686d-420f-8a27-e193c5ba1f9d');\n",
              "          const dataTable =\n",
              "            await google.colab.kernel.invokeFunction('convertToInteractive',\n",
              "                                                     [key], {});\n",
              "          if (!dataTable) return;\n",
              "\n",
              "          const docLinkHtml = 'Like what you see? Visit the ' +\n",
              "            '<a target=\"_blank\" href=https://colab.research.google.com/notebooks/data_table.ipynb>data table notebook</a>'\n",
              "            + ' to learn more about interactive tables.';\n",
              "          element.innerHTML = '';\n",
              "          dataTable['output_type'] = 'display_data';\n",
              "          await google.colab.output.renderOutput(dataTable, element);\n",
              "          const docLink = document.createElement('div');\n",
              "          docLink.innerHTML = docLinkHtml;\n",
              "          element.appendChild(docLink);\n",
              "        }\n",
              "      </script>\n",
              "    </div>\n",
              "  </div>\n",
              "  "
            ]
          },
          "metadata": {},
          "execution_count": 8
        }
      ]
    },
    {
      "cell_type": "code",
      "source": [
        "df1.info()"
      ],
      "metadata": {
        "id": "y63kti-YcnoZ",
        "outputId": "79fc98da-1b12-4a27-9825-c94dee443c43",
        "colab": {
          "base_uri": "https://localhost:8080/"
        }
      },
      "execution_count": null,
      "outputs": [
        {
          "output_type": "stream",
          "name": "stdout",
          "text": [
            "<class 'pandas.core.frame.DataFrame'>\n",
            "RangeIndex: 500 entries, 0 to 499\n",
            "Data columns (total 6 columns):\n",
            " #   Column                Non-Null Count  Dtype \n",
            "---  ------                --------------  ----- \n",
            " 0   업종대분류(UPJONG_CLASS1)  500 non-null    object\n",
            " 1   기준일자(YMD)             500 non-null    int64 \n",
            " 2   시간대구간(TIME)           500 non-null    int64 \n",
            " 3   고객주소집계구별(TOT_REG_CD)  500 non-null    int64 \n",
            " 4   카드이용금액계(AMT_CORR)     500 non-null    int64 \n",
            " 5   카드이용건수계(USECT_CORR)   500 non-null    int64 \n",
            "dtypes: int64(5), object(1)\n",
            "memory usage: 23.6+ KB\n"
          ]
        }
      ]
    },
    {
      "cell_type": "code",
      "source": [
        ""
      ],
      "metadata": {
        "id": "MsmeHxOMcp9d"
      },
      "execution_count": null,
      "outputs": []
    }
  ]
}