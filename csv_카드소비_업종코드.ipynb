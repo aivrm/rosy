{
  "nbformat": 4,
  "nbformat_minor": 0,
  "metadata": {
    "colab": {
      "name": "csv_카드소비 업종코드.ipynb",
      "provenance": [],
      "collapsed_sections": [],
      "mount_file_id": "1bnpIFxnGa36CtqEgq_F2QDLvI6gFvVQ3",
      "authorship_tag": "ABX9TyOFgQNeSwQ8w9sib3rle3cB",
      "include_colab_link": true
    },
    "kernelspec": {
      "name": "python3",
      "display_name": "Python 3"
    },
    "language_info": {
      "name": "python"
    }
  },
  "cells": [
    {
      "cell_type": "markdown",
      "metadata": {
        "id": "view-in-github",
        "colab_type": "text"
      },
      "source": [
        "<a href=\"https://colab.research.google.com/github/aivrm/rosy/blob/main/csv_%EC%B9%B4%EB%93%9C%EC%86%8C%EB%B9%84_%EC%97%85%EC%A2%85%EC%BD%94%EB%93%9C.ipynb\" target=\"_parent\"><img src=\"https://colab.research.google.com/assets/colab-badge.svg\" alt=\"Open In Colab\"/></a>"
      ]
    },
    {
      "cell_type": "code",
      "source": [
        "from google.colab import drive\n",
        "drive.mount('/content/drive')"
      ],
      "metadata": {
        "colab": {
          "base_uri": "https://localhost:8080/"
        },
        "id": "GjojqTpYPA5b",
        "outputId": "58ea78df-e8cd-4fc5-ec4a-a193461cfeb8"
      },
      "execution_count": 11,
      "outputs": [
        {
          "output_type": "stream",
          "name": "stdout",
          "text": [
            "Drive already mounted at /content/drive; to attempt to forcibly remount, call drive.mount(\"/content/drive\", force_remount=True).\n"
          ]
        }
      ]
    },
    {
      "cell_type": "markdown",
      "source": [
        "---"
      ],
      "metadata": {
        "id": "RwOACdYQijCa"
      }
    },
    {
      "cell_type": "code",
      "source": [
        "import pandas as pd"
      ],
      "metadata": {
        "id": "ZjL8ul7yPiu8"
      },
      "execution_count": 12,
      "outputs": []
    },
    {
      "cell_type": "code",
      "source": [
        "import matplotlib.pyplot as plt\n",
        "plt.rc('font', family='NanumGothic')"
      ],
      "metadata": {
        "id": "4qY2BZQEQxnm"
      },
      "execution_count": 13,
      "outputs": []
    },
    {
      "cell_type": "code",
      "source": [
        "BASE_DIR = '/content/drive/MyDrive/_aiffel/_datathon_rosy/CrdCnsmptn/csv/'"
      ],
      "metadata": {
        "id": "xOlhwoH6ZAXR"
      },
      "execution_count": 14,
      "outputs": []
    },
    {
      "cell_type": "code",
      "source": [
        "df1 = pd.read_csv(BASE_DIR + '카드소비 업종코드.csv', encoding='cp949')"
      ],
      "metadata": {
        "id": "9LVFfUw-ZFrJ"
      },
      "execution_count": 15,
      "outputs": []
    },
    {
      "cell_type": "code",
      "source": [
        "df1"
      ],
      "metadata": {
        "colab": {
          "base_uri": "https://localhost:8080/",
          "height": 424
        },
        "id": "cxKYVWTsZS4_",
        "outputId": "84fbc260-01c0-48f1-c641-e8c49a7f4e17"
      },
      "execution_count": 16,
      "outputs": [
        {
          "output_type": "execute_result",
          "data": {
            "text/plain": [
              "   업종코드(UPJONG_CD) 대분류(CLASS1)  중분류(CLASS2) 소분류(CLASS3)\n",
              "0            ss001       요식/유흥           한식          한식\n",
              "1            ss002       요식/유흥     일식/중식/양식          일식\n",
              "2            ss003       요식/유흥     일식/중식/양식          양식\n",
              "3            ss004       요식/유흥     일식/중식/양식          중식\n",
              "4            ss005       요식/유흥  제과/커피/패스트푸드         제과점\n",
              "..             ...         ...          ...         ...\n",
              "70           ss084   스포츠/문화/레저    스포츠/문화/레저          스키\n",
              "71           ss090       교육/학원           학원      입시보습학원\n",
              "72           ss091       교육/학원           학원       외국어학원\n",
              "73           ss092       교육/학원           학원       예체능학원\n",
              "74           ss093       교육/학원           학원     취미/전문학원\n",
              "\n",
              "[75 rows x 4 columns]"
            ],
            "text/html": [
              "\n",
              "  <div id=\"df-e00371fc-7105-4e7b-92de-7854e5149dd6\">\n",
              "    <div class=\"colab-df-container\">\n",
              "      <div>\n",
              "<style scoped>\n",
              "    .dataframe tbody tr th:only-of-type {\n",
              "        vertical-align: middle;\n",
              "    }\n",
              "\n",
              "    .dataframe tbody tr th {\n",
              "        vertical-align: top;\n",
              "    }\n",
              "\n",
              "    .dataframe thead th {\n",
              "        text-align: right;\n",
              "    }\n",
              "</style>\n",
              "<table border=\"1\" class=\"dataframe\">\n",
              "  <thead>\n",
              "    <tr style=\"text-align: right;\">\n",
              "      <th></th>\n",
              "      <th>업종코드(UPJONG_CD)</th>\n",
              "      <th>대분류(CLASS1)</th>\n",
              "      <th>중분류(CLASS2)</th>\n",
              "      <th>소분류(CLASS3)</th>\n",
              "    </tr>\n",
              "  </thead>\n",
              "  <tbody>\n",
              "    <tr>\n",
              "      <th>0</th>\n",
              "      <td>ss001</td>\n",
              "      <td>요식/유흥</td>\n",
              "      <td>한식</td>\n",
              "      <td>한식</td>\n",
              "    </tr>\n",
              "    <tr>\n",
              "      <th>1</th>\n",
              "      <td>ss002</td>\n",
              "      <td>요식/유흥</td>\n",
              "      <td>일식/중식/양식</td>\n",
              "      <td>일식</td>\n",
              "    </tr>\n",
              "    <tr>\n",
              "      <th>2</th>\n",
              "      <td>ss003</td>\n",
              "      <td>요식/유흥</td>\n",
              "      <td>일식/중식/양식</td>\n",
              "      <td>양식</td>\n",
              "    </tr>\n",
              "    <tr>\n",
              "      <th>3</th>\n",
              "      <td>ss004</td>\n",
              "      <td>요식/유흥</td>\n",
              "      <td>일식/중식/양식</td>\n",
              "      <td>중식</td>\n",
              "    </tr>\n",
              "    <tr>\n",
              "      <th>4</th>\n",
              "      <td>ss005</td>\n",
              "      <td>요식/유흥</td>\n",
              "      <td>제과/커피/패스트푸드</td>\n",
              "      <td>제과점</td>\n",
              "    </tr>\n",
              "    <tr>\n",
              "      <th>...</th>\n",
              "      <td>...</td>\n",
              "      <td>...</td>\n",
              "      <td>...</td>\n",
              "      <td>...</td>\n",
              "    </tr>\n",
              "    <tr>\n",
              "      <th>70</th>\n",
              "      <td>ss084</td>\n",
              "      <td>스포츠/문화/레저</td>\n",
              "      <td>스포츠/문화/레저</td>\n",
              "      <td>스키</td>\n",
              "    </tr>\n",
              "    <tr>\n",
              "      <th>71</th>\n",
              "      <td>ss090</td>\n",
              "      <td>교육/학원</td>\n",
              "      <td>학원</td>\n",
              "      <td>입시보습학원</td>\n",
              "    </tr>\n",
              "    <tr>\n",
              "      <th>72</th>\n",
              "      <td>ss091</td>\n",
              "      <td>교육/학원</td>\n",
              "      <td>학원</td>\n",
              "      <td>외국어학원</td>\n",
              "    </tr>\n",
              "    <tr>\n",
              "      <th>73</th>\n",
              "      <td>ss092</td>\n",
              "      <td>교육/학원</td>\n",
              "      <td>학원</td>\n",
              "      <td>예체능학원</td>\n",
              "    </tr>\n",
              "    <tr>\n",
              "      <th>74</th>\n",
              "      <td>ss093</td>\n",
              "      <td>교육/학원</td>\n",
              "      <td>학원</td>\n",
              "      <td>취미/전문학원</td>\n",
              "    </tr>\n",
              "  </tbody>\n",
              "</table>\n",
              "<p>75 rows × 4 columns</p>\n",
              "</div>\n",
              "      <button class=\"colab-df-convert\" onclick=\"convertToInteractive('df-e00371fc-7105-4e7b-92de-7854e5149dd6')\"\n",
              "              title=\"Convert this dataframe to an interactive table.\"\n",
              "              style=\"display:none;\">\n",
              "        \n",
              "  <svg xmlns=\"http://www.w3.org/2000/svg\" height=\"24px\"viewBox=\"0 0 24 24\"\n",
              "       width=\"24px\">\n",
              "    <path d=\"M0 0h24v24H0V0z\" fill=\"none\"/>\n",
              "    <path d=\"M18.56 5.44l.94 2.06.94-2.06 2.06-.94-2.06-.94-.94-2.06-.94 2.06-2.06.94zm-11 1L8.5 8.5l.94-2.06 2.06-.94-2.06-.94L8.5 2.5l-.94 2.06-2.06.94zm10 10l.94 2.06.94-2.06 2.06-.94-2.06-.94-.94-2.06-.94 2.06-2.06.94z\"/><path d=\"M17.41 7.96l-1.37-1.37c-.4-.4-.92-.59-1.43-.59-.52 0-1.04.2-1.43.59L10.3 9.45l-7.72 7.72c-.78.78-.78 2.05 0 2.83L4 21.41c.39.39.9.59 1.41.59.51 0 1.02-.2 1.41-.59l7.78-7.78 2.81-2.81c.8-.78.8-2.07 0-2.86zM5.41 20L4 18.59l7.72-7.72 1.47 1.35L5.41 20z\"/>\n",
              "  </svg>\n",
              "      </button>\n",
              "      \n",
              "  <style>\n",
              "    .colab-df-container {\n",
              "      display:flex;\n",
              "      flex-wrap:wrap;\n",
              "      gap: 12px;\n",
              "    }\n",
              "\n",
              "    .colab-df-convert {\n",
              "      background-color: #E8F0FE;\n",
              "      border: none;\n",
              "      border-radius: 50%;\n",
              "      cursor: pointer;\n",
              "      display: none;\n",
              "      fill: #1967D2;\n",
              "      height: 32px;\n",
              "      padding: 0 0 0 0;\n",
              "      width: 32px;\n",
              "    }\n",
              "\n",
              "    .colab-df-convert:hover {\n",
              "      background-color: #E2EBFA;\n",
              "      box-shadow: 0px 1px 2px rgba(60, 64, 67, 0.3), 0px 1px 3px 1px rgba(60, 64, 67, 0.15);\n",
              "      fill: #174EA6;\n",
              "    }\n",
              "\n",
              "    [theme=dark] .colab-df-convert {\n",
              "      background-color: #3B4455;\n",
              "      fill: #D2E3FC;\n",
              "    }\n",
              "\n",
              "    [theme=dark] .colab-df-convert:hover {\n",
              "      background-color: #434B5C;\n",
              "      box-shadow: 0px 1px 3px 1px rgba(0, 0, 0, 0.15);\n",
              "      filter: drop-shadow(0px 1px 2px rgba(0, 0, 0, 0.3));\n",
              "      fill: #FFFFFF;\n",
              "    }\n",
              "  </style>\n",
              "\n",
              "      <script>\n",
              "        const buttonEl =\n",
              "          document.querySelector('#df-e00371fc-7105-4e7b-92de-7854e5149dd6 button.colab-df-convert');\n",
              "        buttonEl.style.display =\n",
              "          google.colab.kernel.accessAllowed ? 'block' : 'none';\n",
              "\n",
              "        async function convertToInteractive(key) {\n",
              "          const element = document.querySelector('#df-e00371fc-7105-4e7b-92de-7854e5149dd6');\n",
              "          const dataTable =\n",
              "            await google.colab.kernel.invokeFunction('convertToInteractive',\n",
              "                                                     [key], {});\n",
              "          if (!dataTable) return;\n",
              "\n",
              "          const docLinkHtml = 'Like what you see? Visit the ' +\n",
              "            '<a target=\"_blank\" href=https://colab.research.google.com/notebooks/data_table.ipynb>data table notebook</a>'\n",
              "            + ' to learn more about interactive tables.';\n",
              "          element.innerHTML = '';\n",
              "          dataTable['output_type'] = 'display_data';\n",
              "          await google.colab.output.renderOutput(dataTable, element);\n",
              "          const docLink = document.createElement('div');\n",
              "          docLink.innerHTML = docLinkHtml;\n",
              "          element.appendChild(docLink);\n",
              "        }\n",
              "      </script>\n",
              "    </div>\n",
              "  </div>\n",
              "  "
            ]
          },
          "metadata": {},
          "execution_count": 16
        }
      ]
    },
    {
      "cell_type": "code",
      "source": [
        "df1['업종코드(UPJONG_CD)']"
      ],
      "metadata": {
        "colab": {
          "base_uri": "https://localhost:8080/"
        },
        "id": "Jvh9vuoNjlLV",
        "outputId": "7496b7d3-6c52-420e-b335-8fd2b4290691"
      },
      "execution_count": 17,
      "outputs": [
        {
          "output_type": "execute_result",
          "data": {
            "text/plain": [
              "0     ss001\n",
              "1     ss002\n",
              "2     ss003\n",
              "3     ss004\n",
              "4     ss005\n",
              "      ...  \n",
              "70    ss084\n",
              "71    ss090\n",
              "72    ss091\n",
              "73    ss092\n",
              "74    ss093\n",
              "Name: 업종코드(UPJONG_CD), Length: 75, dtype: object"
            ]
          },
          "metadata": {},
          "execution_count": 17
        }
      ]
    },
    {
      "cell_type": "code",
      "source": [
        "df1['대분류(CLASS1)']"
      ],
      "metadata": {
        "colab": {
          "base_uri": "https://localhost:8080/"
        },
        "id": "v2zRHccvkFZu",
        "outputId": "af812660-67d6-42e2-d44a-6b3f018c1a7d"
      },
      "execution_count": 22,
      "outputs": [
        {
          "output_type": "execute_result",
          "data": {
            "text/plain": [
              "0         요식/유흥\n",
              "1         요식/유흥\n",
              "2         요식/유흥\n",
              "3         요식/유흥\n",
              "4         요식/유흥\n",
              "        ...    \n",
              "70    스포츠/문화/레저\n",
              "71        교육/학원\n",
              "72        교육/학원\n",
              "73        교육/학원\n",
              "74        교육/학원\n",
              "Name: 대분류(CLASS1), Length: 75, dtype: object"
            ]
          },
          "metadata": {},
          "execution_count": 22
        }
      ]
    },
    {
      "cell_type": "code",
      "source": [
        "set(df1['대분류(CLASS1)'])"
      ],
      "metadata": {
        "colab": {
          "base_uri": "https://localhost:8080/"
        },
        "id": "Au5VoJ8Tjr4F",
        "outputId": "0c27e2d3-be6e-4884-b1c0-2319eefe0190"
      },
      "execution_count": 21,
      "outputs": [
        {
          "output_type": "execute_result",
          "data": {
            "text/plain": [
              "{'가전/가구',\n",
              " '가정생활/서비스',\n",
              " '교육/학원',\n",
              " '미용',\n",
              " '스포츠/문화/레저',\n",
              " '여행/교통',\n",
              " '요식/유흥',\n",
              " '유통',\n",
              " '음/식료품',\n",
              " '의료',\n",
              " '의류/잡화',\n",
              " '자동차',\n",
              " '전자상거래',\n",
              " '주유'}"
            ]
          },
          "metadata": {},
          "execution_count": 21
        }
      ]
    },
    {
      "cell_type": "code",
      "source": [
        "df1['중분류(CLASS2)']"
      ],
      "metadata": {
        "colab": {
          "base_uri": "https://localhost:8080/"
        },
        "id": "AvSgUzeBkW--",
        "outputId": "732f7aa2-98b0-4825-ec50-0791e25d4feb"
      },
      "execution_count": 24,
      "outputs": [
        {
          "output_type": "execute_result",
          "data": {
            "text/plain": [
              "0              한식\n",
              "1        일식/중식/양식\n",
              "2        일식/중식/양식\n",
              "3        일식/중식/양식\n",
              "4     제과/커피/패스트푸드\n",
              "         ...     \n",
              "70      스포츠/문화/레저\n",
              "71             학원\n",
              "72             학원\n",
              "73             학원\n",
              "74             학원\n",
              "Name: 중분류(CLASS2), Length: 75, dtype: object"
            ]
          },
          "metadata": {},
          "execution_count": 24
        }
      ]
    },
    {
      "cell_type": "code",
      "source": [
        "set(df1['중분류(CLASS2)'])"
      ],
      "metadata": {
        "colab": {
          "base_uri": "https://localhost:8080/"
        },
        "id": "yaSh8UmskiFj",
        "outputId": "a186faea-085c-4101-b040-af3ec994cddb"
      },
      "execution_count": 26,
      "outputs": [
        {
          "output_type": "execute_result",
          "data": {
            "text/plain": [
              "{'가전/가구',\n",
              " '각종요금',\n",
              " '교육용품',\n",
              " '교통',\n",
              " '기타요식',\n",
              " '기타유통',\n",
              " '기타의료',\n",
              " '미용서비스',\n",
              " '백화점',\n",
              " '병원',\n",
              " '서비스',\n",
              " '숙박',\n",
              " '스포츠/문화/레저',\n",
              " '스포츠/문화/레저용품',\n",
              " '약국',\n",
              " '여행',\n",
              " '유아교육',\n",
              " '유흥',\n",
              " '음/식료품',\n",
              " '의복/의류',\n",
              " '인테리어',\n",
              " '일식/중식/양식',\n",
              " '자동차서비스/용품',\n",
              " '자동차판매',\n",
              " '전자상거래',\n",
              " '제과/커피/패스트푸드',\n",
              " '주유',\n",
              " '패션/잡화',\n",
              " '편의점',\n",
              " '학원',\n",
              " '한식',\n",
              " '할인점/슈퍼마켓',\n",
              " '화장품'}"
            ]
          },
          "metadata": {},
          "execution_count": 26
        }
      ]
    },
    {
      "cell_type": "code",
      "source": [
        "df1['소분류(CLASS3)']"
      ],
      "metadata": {
        "colab": {
          "base_uri": "https://localhost:8080/"
        },
        "id": "NHbbw0j0koSI",
        "outputId": "54939186-ed72-4fa9-c867-a3e4349e8d0d"
      },
      "execution_count": 27,
      "outputs": [
        {
          "output_type": "execute_result",
          "data": {
            "text/plain": [
              "0          한식\n",
              "1          일식\n",
              "2          양식\n",
              "3          중식\n",
              "4         제과점\n",
              "       ...   \n",
              "70         스키\n",
              "71     입시보습학원\n",
              "72      외국어학원\n",
              "73      예체능학원\n",
              "74    취미/전문학원\n",
              "Name: 소분류(CLASS3), Length: 75, dtype: object"
            ]
          },
          "metadata": {},
          "execution_count": 27
        }
      ]
    },
    {
      "cell_type": "code",
      "source": [
        "set(df1['소분류(CLASS3)'])"
      ],
      "metadata": {
        "colab": {
          "base_uri": "https://localhost:8080/"
        },
        "id": "NP0SA5QxktrK",
        "outputId": "e1e629bd-44f9-4f82-9c96-83018b764c67"
      },
      "execution_count": 28,
      "outputs": [
        {
          "output_type": "execute_result",
          "data": {
            "text/plain": [
              "{'LPG',\n",
              " '가구',\n",
              " '가전',\n",
              " '결제대행(PG)',\n",
              " '교육용품',\n",
              " '교통',\n",
              " '기타가전/가구',\n",
              " '기타요식',\n",
              " '기타유통',\n",
              " '기타유흥업소',\n",
              " '기타음/식료품',\n",
              " '기타의료',\n",
              " '노래방',\n",
              " '농수산물',\n",
              " '독서실',\n",
              " '면세점',\n",
              " '모텔/여관/기타숙박',\n",
              " '문화용품',\n",
              " '미용서비스',\n",
              " '미용실',\n",
              " '백화점',\n",
              " '보험',\n",
              " '생활서비스',\n",
              " '생활잡화',\n",
              " '서점',\n",
              " '세탁소',\n",
              " '슈퍼마켓',\n",
              " '스키',\n",
              " '스포츠/레저용품',\n",
              " '스포츠시설',\n",
              " '시계/귀금속',\n",
              " '실내골프',\n",
              " '실외골프',\n",
              " '안경',\n",
              " '약국',\n",
              " '양식',\n",
              " '업무서비스',\n",
              " '여행사',\n",
              " '영화/공연',\n",
              " '예체능학원',\n",
              " '온라인거래',\n",
              " '외국어학원',\n",
              " '유아교육',\n",
              " '유흥주점',\n",
              " '의복/의류',\n",
              " '인테리어',\n",
              " '일반병원',\n",
              " '일식',\n",
              " '입시보습학원',\n",
              " '자동차서비스',\n",
              " '자동차용품',\n",
              " '자동차판매',\n",
              " '정육점',\n",
              " '제과점',\n",
              " '종합레저시설',\n",
              " '종합병원',\n",
              " '주유소',\n",
              " '중식',\n",
              " '취미/오락',\n",
              " '취미/전문학원',\n",
              " '치과병원',\n",
              " '커피전문점',\n",
              " '통신',\n",
              " '패션/잡화',\n",
              " '패스트푸드',\n",
              " '편의점',\n",
              " '한식',\n",
              " '한의원',\n",
              " '할인점/슈퍼마켓',\n",
              " '항공',\n",
              " '헬스',\n",
              " '호텔/콘도',\n",
              " '홈쇼핑',\n",
              " '화원',\n",
              " '화장품'}"
            ]
          },
          "metadata": {},
          "execution_count": 28
        }
      ]
    },
    {
      "cell_type": "code",
      "source": [
        "len(set(df1['소분류(CLASS3)']))"
      ],
      "metadata": {
        "colab": {
          "base_uri": "https://localhost:8080/"
        },
        "id": "bIW0084_lNXS",
        "outputId": "7a374c7f-2863-4ef5-d690-fe09db1a3dcc"
      },
      "execution_count": 29,
      "outputs": [
        {
          "output_type": "execute_result",
          "data": {
            "text/plain": [
              "75"
            ]
          },
          "metadata": {},
          "execution_count": 29
        }
      ]
    },
    {
      "cell_type": "markdown",
      "source": [
        "* 소분류(CLASS3) 75가지 (중복 없음)\n",
        "* 중분류(CLASS2) 33가지\n",
        "* 대분류(CLASS1) 14가지\n",
        "* 업종코드(UPJONG_CD)는 ss001 ~ ss093\n",
        "\n",
        ">소분류가 75개인데,\n",
        ">업종코드는 93까지이므로, 중간에 빠진 코드번호가 있을 것으로 추정함."
      ],
      "metadata": {
        "id": "vo36TcdPmvOy"
      }
    },
    {
      "cell_type": "code",
      "source": [
        ""
      ],
      "metadata": {
        "id": "1FXRbk5nlSik"
      },
      "execution_count": null,
      "outputs": []
    }
  ]
}