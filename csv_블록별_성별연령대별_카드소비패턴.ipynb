{
  "nbformat": 4,
  "nbformat_minor": 0,
  "metadata": {
    "colab": {
      "name": "csv_블록별 성별연령대별 카드소비패턴.ipynb",
      "provenance": [],
      "collapsed_sections": [],
      "mount_file_id": "1RejTcn4zZ095fHpTcK6Sj7s0BLfW5qar",
      "authorship_tag": "ABX9TyMnXgLaKOUwPPK2VVcMUzfS",
      "include_colab_link": true
    },
    "kernelspec": {
      "name": "python3",
      "display_name": "Python 3"
    },
    "language_info": {
      "name": "python"
    }
  },
  "cells": [
    {
      "cell_type": "markdown",
      "metadata": {
        "id": "view-in-github",
        "colab_type": "text"
      },
      "source": [
        "<a href=\"https://colab.research.google.com/github/aivrm/rosy/blob/main/csv_%EB%B8%94%EB%A1%9D%EB%B3%84_%EC%84%B1%EB%B3%84%EC%97%B0%EB%A0%B9%EB%8C%80%EB%B3%84_%EC%B9%B4%EB%93%9C%EC%86%8C%EB%B9%84%ED%8C%A8%ED%84%B4.ipynb\" target=\"_parent\"><img src=\"https://colab.research.google.com/assets/colab-badge.svg\" alt=\"Open In Colab\"/></a>"
      ]
    },
    {
      "cell_type": "markdown",
      "source": [
        "\n",
        "\n",
        "https://dacon.io/competitions/official/235907/codeshare/5393"
      ],
      "metadata": {
        "id": "1Mxiipcxa-J4"
      }
    },
    {
      "cell_type": "code",
      "source": [
        "import pandas as pd"
      ],
      "metadata": {
        "id": "xjLGrcXoQJWa"
      },
      "execution_count": null,
      "outputs": []
    },
    {
      "cell_type": "code",
      "source": [
        "import matplotlib.pyplot as plt\n",
        "plt.rc('font', family='NanumGothic')"
      ],
      "metadata": {
        "id": "KgNAutJ4Zw5E"
      },
      "execution_count": null,
      "outputs": []
    },
    {
      "cell_type": "code",
      "source": [
        "BASE_DIR = '/content/drive/MyDrive/_aiffel/_dataton/CrdCnsmptn/csv/'"
      ],
      "metadata": {
        "id": "owWGU8FgZzg9"
      },
      "execution_count": null,
      "outputs": []
    },
    {
      "cell_type": "code",
      "source": [
        "df1 = pd.read_csv(BASE_DIR + '블록별 성별연령대별 카드소비패턴.csv', encoding='cp949')"
      ],
      "metadata": {
        "id": "PE2vGYgaQska"
      },
      "execution_count": null,
      "outputs": []
    },
    {
      "cell_type": "code",
      "source": [
        "df1"
      ],
      "metadata": {
        "id": "LrYt_DuKRGxB",
        "colab": {
          "base_uri": "https://localhost:8080/",
          "height": 502
        },
        "outputId": "bec1c925-1fe2-4396-bc34-898cf3fc6018"
      },
      "execution_count": null,
      "outputs": [
        {
          "output_type": "execute_result",
          "data": {
            "text/plain": [
              "    서울시민업종코드(UPJONG_CD)  기준년월(YM)  고객주소블록코드(BLOCK_CD) 성별(GEDNER) 연령대별(AGE)  \\\n",
              "0                 SS013    201906               14037          F       50대   \n",
              "1                 SS048    201608              156830          M       30대   \n",
              "2                 SS016    202009               32925          M       50대   \n",
              "3                 SS001    201805              214245          F       30대   \n",
              "4                 SS044    201705              279472          M       30대   \n",
              "..                  ...       ...                 ...        ...       ...   \n",
              "495               SS012    201709               11449          F       30대   \n",
              "496               SS044    201707              353037          F       30대   \n",
              "497               SS054    201901              418149          F       20대   \n",
              "498               SS021    202009              269015          F     70대이상   \n",
              "499               SS003    201812               28101          M       40대   \n",
              "\n",
              "     카드이용금액계(AMT_CORR)  카드이용건수계(USECT_CORR)  \n",
              "0                48288                   65  \n",
              "1               132792                   10  \n",
              "2               100600                   25  \n",
              "3               213876                   40  \n",
              "4               155930                    5  \n",
              "..                 ...                  ...  \n",
              "495              75450                   45  \n",
              "496             118708                   25  \n",
              "497            1056300                   15  \n",
              "498              25150                    5  \n",
              "499             569094                    5  \n",
              "\n",
              "[500 rows x 7 columns]"
            ],
            "text/html": [
              "\n",
              "  <div id=\"df-1a3d57d7-d367-4c56-b242-0c4d7317455f\">\n",
              "    <div class=\"colab-df-container\">\n",
              "      <div>\n",
              "<style scoped>\n",
              "    .dataframe tbody tr th:only-of-type {\n",
              "        vertical-align: middle;\n",
              "    }\n",
              "\n",
              "    .dataframe tbody tr th {\n",
              "        vertical-align: top;\n",
              "    }\n",
              "\n",
              "    .dataframe thead th {\n",
              "        text-align: right;\n",
              "    }\n",
              "</style>\n",
              "<table border=\"1\" class=\"dataframe\">\n",
              "  <thead>\n",
              "    <tr style=\"text-align: right;\">\n",
              "      <th></th>\n",
              "      <th>서울시민업종코드(UPJONG_CD)</th>\n",
              "      <th>기준년월(YM)</th>\n",
              "      <th>고객주소블록코드(BLOCK_CD)</th>\n",
              "      <th>성별(GEDNER)</th>\n",
              "      <th>연령대별(AGE)</th>\n",
              "      <th>카드이용금액계(AMT_CORR)</th>\n",
              "      <th>카드이용건수계(USECT_CORR)</th>\n",
              "    </tr>\n",
              "  </thead>\n",
              "  <tbody>\n",
              "    <tr>\n",
              "      <th>0</th>\n",
              "      <td>SS013</td>\n",
              "      <td>201906</td>\n",
              "      <td>14037</td>\n",
              "      <td>F</td>\n",
              "      <td>50대</td>\n",
              "      <td>48288</td>\n",
              "      <td>65</td>\n",
              "    </tr>\n",
              "    <tr>\n",
              "      <th>1</th>\n",
              "      <td>SS048</td>\n",
              "      <td>201608</td>\n",
              "      <td>156830</td>\n",
              "      <td>M</td>\n",
              "      <td>30대</td>\n",
              "      <td>132792</td>\n",
              "      <td>10</td>\n",
              "    </tr>\n",
              "    <tr>\n",
              "      <th>2</th>\n",
              "      <td>SS016</td>\n",
              "      <td>202009</td>\n",
              "      <td>32925</td>\n",
              "      <td>M</td>\n",
              "      <td>50대</td>\n",
              "      <td>100600</td>\n",
              "      <td>25</td>\n",
              "    </tr>\n",
              "    <tr>\n",
              "      <th>3</th>\n",
              "      <td>SS001</td>\n",
              "      <td>201805</td>\n",
              "      <td>214245</td>\n",
              "      <td>F</td>\n",
              "      <td>30대</td>\n",
              "      <td>213876</td>\n",
              "      <td>40</td>\n",
              "    </tr>\n",
              "    <tr>\n",
              "      <th>4</th>\n",
              "      <td>SS044</td>\n",
              "      <td>201705</td>\n",
              "      <td>279472</td>\n",
              "      <td>M</td>\n",
              "      <td>30대</td>\n",
              "      <td>155930</td>\n",
              "      <td>5</td>\n",
              "    </tr>\n",
              "    <tr>\n",
              "      <th>...</th>\n",
              "      <td>...</td>\n",
              "      <td>...</td>\n",
              "      <td>...</td>\n",
              "      <td>...</td>\n",
              "      <td>...</td>\n",
              "      <td>...</td>\n",
              "      <td>...</td>\n",
              "    </tr>\n",
              "    <tr>\n",
              "      <th>495</th>\n",
              "      <td>SS012</td>\n",
              "      <td>201709</td>\n",
              "      <td>11449</td>\n",
              "      <td>F</td>\n",
              "      <td>30대</td>\n",
              "      <td>75450</td>\n",
              "      <td>45</td>\n",
              "    </tr>\n",
              "    <tr>\n",
              "      <th>496</th>\n",
              "      <td>SS044</td>\n",
              "      <td>201707</td>\n",
              "      <td>353037</td>\n",
              "      <td>F</td>\n",
              "      <td>30대</td>\n",
              "      <td>118708</td>\n",
              "      <td>25</td>\n",
              "    </tr>\n",
              "    <tr>\n",
              "      <th>497</th>\n",
              "      <td>SS054</td>\n",
              "      <td>201901</td>\n",
              "      <td>418149</td>\n",
              "      <td>F</td>\n",
              "      <td>20대</td>\n",
              "      <td>1056300</td>\n",
              "      <td>15</td>\n",
              "    </tr>\n",
              "    <tr>\n",
              "      <th>498</th>\n",
              "      <td>SS021</td>\n",
              "      <td>202009</td>\n",
              "      <td>269015</td>\n",
              "      <td>F</td>\n",
              "      <td>70대이상</td>\n",
              "      <td>25150</td>\n",
              "      <td>5</td>\n",
              "    </tr>\n",
              "    <tr>\n",
              "      <th>499</th>\n",
              "      <td>SS003</td>\n",
              "      <td>201812</td>\n",
              "      <td>28101</td>\n",
              "      <td>M</td>\n",
              "      <td>40대</td>\n",
              "      <td>569094</td>\n",
              "      <td>5</td>\n",
              "    </tr>\n",
              "  </tbody>\n",
              "</table>\n",
              "<p>500 rows × 7 columns</p>\n",
              "</div>\n",
              "      <button class=\"colab-df-convert\" onclick=\"convertToInteractive('df-1a3d57d7-d367-4c56-b242-0c4d7317455f')\"\n",
              "              title=\"Convert this dataframe to an interactive table.\"\n",
              "              style=\"display:none;\">\n",
              "        \n",
              "  <svg xmlns=\"http://www.w3.org/2000/svg\" height=\"24px\"viewBox=\"0 0 24 24\"\n",
              "       width=\"24px\">\n",
              "    <path d=\"M0 0h24v24H0V0z\" fill=\"none\"/>\n",
              "    <path d=\"M18.56 5.44l.94 2.06.94-2.06 2.06-.94-2.06-.94-.94-2.06-.94 2.06-2.06.94zm-11 1L8.5 8.5l.94-2.06 2.06-.94-2.06-.94L8.5 2.5l-.94 2.06-2.06.94zm10 10l.94 2.06.94-2.06 2.06-.94-2.06-.94-.94-2.06-.94 2.06-2.06.94z\"/><path d=\"M17.41 7.96l-1.37-1.37c-.4-.4-.92-.59-1.43-.59-.52 0-1.04.2-1.43.59L10.3 9.45l-7.72 7.72c-.78.78-.78 2.05 0 2.83L4 21.41c.39.39.9.59 1.41.59.51 0 1.02-.2 1.41-.59l7.78-7.78 2.81-2.81c.8-.78.8-2.07 0-2.86zM5.41 20L4 18.59l7.72-7.72 1.47 1.35L5.41 20z\"/>\n",
              "  </svg>\n",
              "      </button>\n",
              "      \n",
              "  <style>\n",
              "    .colab-df-container {\n",
              "      display:flex;\n",
              "      flex-wrap:wrap;\n",
              "      gap: 12px;\n",
              "    }\n",
              "\n",
              "    .colab-df-convert {\n",
              "      background-color: #E8F0FE;\n",
              "      border: none;\n",
              "      border-radius: 50%;\n",
              "      cursor: pointer;\n",
              "      display: none;\n",
              "      fill: #1967D2;\n",
              "      height: 32px;\n",
              "      padding: 0 0 0 0;\n",
              "      width: 32px;\n",
              "    }\n",
              "\n",
              "    .colab-df-convert:hover {\n",
              "      background-color: #E2EBFA;\n",
              "      box-shadow: 0px 1px 2px rgba(60, 64, 67, 0.3), 0px 1px 3px 1px rgba(60, 64, 67, 0.15);\n",
              "      fill: #174EA6;\n",
              "    }\n",
              "\n",
              "    [theme=dark] .colab-df-convert {\n",
              "      background-color: #3B4455;\n",
              "      fill: #D2E3FC;\n",
              "    }\n",
              "\n",
              "    [theme=dark] .colab-df-convert:hover {\n",
              "      background-color: #434B5C;\n",
              "      box-shadow: 0px 1px 3px 1px rgba(0, 0, 0, 0.15);\n",
              "      filter: drop-shadow(0px 1px 2px rgba(0, 0, 0, 0.3));\n",
              "      fill: #FFFFFF;\n",
              "    }\n",
              "  </style>\n",
              "\n",
              "      <script>\n",
              "        const buttonEl =\n",
              "          document.querySelector('#df-1a3d57d7-d367-4c56-b242-0c4d7317455f button.colab-df-convert');\n",
              "        buttonEl.style.display =\n",
              "          google.colab.kernel.accessAllowed ? 'block' : 'none';\n",
              "\n",
              "        async function convertToInteractive(key) {\n",
              "          const element = document.querySelector('#df-1a3d57d7-d367-4c56-b242-0c4d7317455f');\n",
              "          const dataTable =\n",
              "            await google.colab.kernel.invokeFunction('convertToInteractive',\n",
              "                                                     [key], {});\n",
              "          if (!dataTable) return;\n",
              "\n",
              "          const docLinkHtml = 'Like what you see? Visit the ' +\n",
              "            '<a target=\"_blank\" href=https://colab.research.google.com/notebooks/data_table.ipynb>data table notebook</a>'\n",
              "            + ' to learn more about interactive tables.';\n",
              "          element.innerHTML = '';\n",
              "          dataTable['output_type'] = 'display_data';\n",
              "          await google.colab.output.renderOutput(dataTable, element);\n",
              "          const docLink = document.createElement('div');\n",
              "          docLink.innerHTML = docLinkHtml;\n",
              "          element.appendChild(docLink);\n",
              "        }\n",
              "      </script>\n",
              "    </div>\n",
              "  </div>\n",
              "  "
            ]
          },
          "metadata": {},
          "execution_count": 5
        }
      ]
    },
    {
      "cell_type": "markdown",
      "source": [
        "성별(GEDNER), 연령대별(AGE), 카드이용금액계(AMT_CORR), 카드이용건수계(USECT_CORR)\n",
        "\n",
        "열을 이용하여 자료 분석을 해보겠습니다.\n",
        "\n",
        "연령대를 분석하기 위하여 데이터프레임의 '연령대별(AGE)' 열을 정수형으로 바꾸겠습니다."
      ],
      "metadata": {
        "id": "jXMemrc5aWFx"
      }
    },
    {
      "cell_type": "code",
      "source": [
        "def change_age(text:str):\n",
        "    return text[:2]\n",
        "\n",
        "df1['연령대별(AGE)'] = df1['연령대별(AGE)'].map(change_age).astype(int)\n",
        "df1"
      ],
      "metadata": {
        "colab": {
          "base_uri": "https://localhost:8080/",
          "height": 485
        },
        "id": "L8w_KeeLaMX9",
        "outputId": "78d0dd63-bede-42cd-bc51-f8f8c504d7cd"
      },
      "execution_count": null,
      "outputs": [
        {
          "output_type": "execute_result",
          "data": {
            "text/plain": [
              "    서울시민업종코드(UPJONG_CD)  기준년월(YM)  고객주소블록코드(BLOCK_CD) 성별(GEDNER)  연령대별(AGE)  \\\n",
              "0                 SS013    201906               14037          F         50   \n",
              "1                 SS048    201608              156830          M         30   \n",
              "2                 SS016    202009               32925          M         50   \n",
              "3                 SS001    201805              214245          F         30   \n",
              "4                 SS044    201705              279472          M         30   \n",
              "..                  ...       ...                 ...        ...        ...   \n",
              "495               SS012    201709               11449          F         30   \n",
              "496               SS044    201707              353037          F         30   \n",
              "497               SS054    201901              418149          F         20   \n",
              "498               SS021    202009              269015          F         70   \n",
              "499               SS003    201812               28101          M         40   \n",
              "\n",
              "     카드이용금액계(AMT_CORR)  카드이용건수계(USECT_CORR)  \n",
              "0                48288                   65  \n",
              "1               132792                   10  \n",
              "2               100600                   25  \n",
              "3               213876                   40  \n",
              "4               155930                    5  \n",
              "..                 ...                  ...  \n",
              "495              75450                   45  \n",
              "496             118708                   25  \n",
              "497            1056300                   15  \n",
              "498              25150                    5  \n",
              "499             569094                    5  \n",
              "\n",
              "[500 rows x 7 columns]"
            ],
            "text/html": [
              "\n",
              "  <div id=\"df-84f7985a-d215-4977-ba03-f13422f654f4\">\n",
              "    <div class=\"colab-df-container\">\n",
              "      <div>\n",
              "<style scoped>\n",
              "    .dataframe tbody tr th:only-of-type {\n",
              "        vertical-align: middle;\n",
              "    }\n",
              "\n",
              "    .dataframe tbody tr th {\n",
              "        vertical-align: top;\n",
              "    }\n",
              "\n",
              "    .dataframe thead th {\n",
              "        text-align: right;\n",
              "    }\n",
              "</style>\n",
              "<table border=\"1\" class=\"dataframe\">\n",
              "  <thead>\n",
              "    <tr style=\"text-align: right;\">\n",
              "      <th></th>\n",
              "      <th>서울시민업종코드(UPJONG_CD)</th>\n",
              "      <th>기준년월(YM)</th>\n",
              "      <th>고객주소블록코드(BLOCK_CD)</th>\n",
              "      <th>성별(GEDNER)</th>\n",
              "      <th>연령대별(AGE)</th>\n",
              "      <th>카드이용금액계(AMT_CORR)</th>\n",
              "      <th>카드이용건수계(USECT_CORR)</th>\n",
              "    </tr>\n",
              "  </thead>\n",
              "  <tbody>\n",
              "    <tr>\n",
              "      <th>0</th>\n",
              "      <td>SS013</td>\n",
              "      <td>201906</td>\n",
              "      <td>14037</td>\n",
              "      <td>F</td>\n",
              "      <td>50</td>\n",
              "      <td>48288</td>\n",
              "      <td>65</td>\n",
              "    </tr>\n",
              "    <tr>\n",
              "      <th>1</th>\n",
              "      <td>SS048</td>\n",
              "      <td>201608</td>\n",
              "      <td>156830</td>\n",
              "      <td>M</td>\n",
              "      <td>30</td>\n",
              "      <td>132792</td>\n",
              "      <td>10</td>\n",
              "    </tr>\n",
              "    <tr>\n",
              "      <th>2</th>\n",
              "      <td>SS016</td>\n",
              "      <td>202009</td>\n",
              "      <td>32925</td>\n",
              "      <td>M</td>\n",
              "      <td>50</td>\n",
              "      <td>100600</td>\n",
              "      <td>25</td>\n",
              "    </tr>\n",
              "    <tr>\n",
              "      <th>3</th>\n",
              "      <td>SS001</td>\n",
              "      <td>201805</td>\n",
              "      <td>214245</td>\n",
              "      <td>F</td>\n",
              "      <td>30</td>\n",
              "      <td>213876</td>\n",
              "      <td>40</td>\n",
              "    </tr>\n",
              "    <tr>\n",
              "      <th>4</th>\n",
              "      <td>SS044</td>\n",
              "      <td>201705</td>\n",
              "      <td>279472</td>\n",
              "      <td>M</td>\n",
              "      <td>30</td>\n",
              "      <td>155930</td>\n",
              "      <td>5</td>\n",
              "    </tr>\n",
              "    <tr>\n",
              "      <th>...</th>\n",
              "      <td>...</td>\n",
              "      <td>...</td>\n",
              "      <td>...</td>\n",
              "      <td>...</td>\n",
              "      <td>...</td>\n",
              "      <td>...</td>\n",
              "      <td>...</td>\n",
              "    </tr>\n",
              "    <tr>\n",
              "      <th>495</th>\n",
              "      <td>SS012</td>\n",
              "      <td>201709</td>\n",
              "      <td>11449</td>\n",
              "      <td>F</td>\n",
              "      <td>30</td>\n",
              "      <td>75450</td>\n",
              "      <td>45</td>\n",
              "    </tr>\n",
              "    <tr>\n",
              "      <th>496</th>\n",
              "      <td>SS044</td>\n",
              "      <td>201707</td>\n",
              "      <td>353037</td>\n",
              "      <td>F</td>\n",
              "      <td>30</td>\n",
              "      <td>118708</td>\n",
              "      <td>25</td>\n",
              "    </tr>\n",
              "    <tr>\n",
              "      <th>497</th>\n",
              "      <td>SS054</td>\n",
              "      <td>201901</td>\n",
              "      <td>418149</td>\n",
              "      <td>F</td>\n",
              "      <td>20</td>\n",
              "      <td>1056300</td>\n",
              "      <td>15</td>\n",
              "    </tr>\n",
              "    <tr>\n",
              "      <th>498</th>\n",
              "      <td>SS021</td>\n",
              "      <td>202009</td>\n",
              "      <td>269015</td>\n",
              "      <td>F</td>\n",
              "      <td>70</td>\n",
              "      <td>25150</td>\n",
              "      <td>5</td>\n",
              "    </tr>\n",
              "    <tr>\n",
              "      <th>499</th>\n",
              "      <td>SS003</td>\n",
              "      <td>201812</td>\n",
              "      <td>28101</td>\n",
              "      <td>M</td>\n",
              "      <td>40</td>\n",
              "      <td>569094</td>\n",
              "      <td>5</td>\n",
              "    </tr>\n",
              "  </tbody>\n",
              "</table>\n",
              "<p>500 rows × 7 columns</p>\n",
              "</div>\n",
              "      <button class=\"colab-df-convert\" onclick=\"convertToInteractive('df-84f7985a-d215-4977-ba03-f13422f654f4')\"\n",
              "              title=\"Convert this dataframe to an interactive table.\"\n",
              "              style=\"display:none;\">\n",
              "        \n",
              "  <svg xmlns=\"http://www.w3.org/2000/svg\" height=\"24px\"viewBox=\"0 0 24 24\"\n",
              "       width=\"24px\">\n",
              "    <path d=\"M0 0h24v24H0V0z\" fill=\"none\"/>\n",
              "    <path d=\"M18.56 5.44l.94 2.06.94-2.06 2.06-.94-2.06-.94-.94-2.06-.94 2.06-2.06.94zm-11 1L8.5 8.5l.94-2.06 2.06-.94-2.06-.94L8.5 2.5l-.94 2.06-2.06.94zm10 10l.94 2.06.94-2.06 2.06-.94-2.06-.94-.94-2.06-.94 2.06-2.06.94z\"/><path d=\"M17.41 7.96l-1.37-1.37c-.4-.4-.92-.59-1.43-.59-.52 0-1.04.2-1.43.59L10.3 9.45l-7.72 7.72c-.78.78-.78 2.05 0 2.83L4 21.41c.39.39.9.59 1.41.59.51 0 1.02-.2 1.41-.59l7.78-7.78 2.81-2.81c.8-.78.8-2.07 0-2.86zM5.41 20L4 18.59l7.72-7.72 1.47 1.35L5.41 20z\"/>\n",
              "  </svg>\n",
              "      </button>\n",
              "      \n",
              "  <style>\n",
              "    .colab-df-container {\n",
              "      display:flex;\n",
              "      flex-wrap:wrap;\n",
              "      gap: 12px;\n",
              "    }\n",
              "\n",
              "    .colab-df-convert {\n",
              "      background-color: #E8F0FE;\n",
              "      border: none;\n",
              "      border-radius: 50%;\n",
              "      cursor: pointer;\n",
              "      display: none;\n",
              "      fill: #1967D2;\n",
              "      height: 32px;\n",
              "      padding: 0 0 0 0;\n",
              "      width: 32px;\n",
              "    }\n",
              "\n",
              "    .colab-df-convert:hover {\n",
              "      background-color: #E2EBFA;\n",
              "      box-shadow: 0px 1px 2px rgba(60, 64, 67, 0.3), 0px 1px 3px 1px rgba(60, 64, 67, 0.15);\n",
              "      fill: #174EA6;\n",
              "    }\n",
              "\n",
              "    [theme=dark] .colab-df-convert {\n",
              "      background-color: #3B4455;\n",
              "      fill: #D2E3FC;\n",
              "    }\n",
              "\n",
              "    [theme=dark] .colab-df-convert:hover {\n",
              "      background-color: #434B5C;\n",
              "      box-shadow: 0px 1px 3px 1px rgba(0, 0, 0, 0.15);\n",
              "      filter: drop-shadow(0px 1px 2px rgba(0, 0, 0, 0.3));\n",
              "      fill: #FFFFFF;\n",
              "    }\n",
              "  </style>\n",
              "\n",
              "      <script>\n",
              "        const buttonEl =\n",
              "          document.querySelector('#df-84f7985a-d215-4977-ba03-f13422f654f4 button.colab-df-convert');\n",
              "        buttonEl.style.display =\n",
              "          google.colab.kernel.accessAllowed ? 'block' : 'none';\n",
              "\n",
              "        async function convertToInteractive(key) {\n",
              "          const element = document.querySelector('#df-84f7985a-d215-4977-ba03-f13422f654f4');\n",
              "          const dataTable =\n",
              "            await google.colab.kernel.invokeFunction('convertToInteractive',\n",
              "                                                     [key], {});\n",
              "          if (!dataTable) return;\n",
              "\n",
              "          const docLinkHtml = 'Like what you see? Visit the ' +\n",
              "            '<a target=\"_blank\" href=https://colab.research.google.com/notebooks/data_table.ipynb>data table notebook</a>'\n",
              "            + ' to learn more about interactive tables.';\n",
              "          element.innerHTML = '';\n",
              "          dataTable['output_type'] = 'display_data';\n",
              "          await google.colab.output.renderOutput(dataTable, element);\n",
              "          const docLink = document.createElement('div');\n",
              "          docLink.innerHTML = docLinkHtml;\n",
              "          element.appendChild(docLink);\n",
              "        }\n",
              "      </script>\n",
              "    </div>\n",
              "  </div>\n",
              "  "
            ]
          },
          "metadata": {},
          "execution_count": 6
        }
      ]
    },
    {
      "cell_type": "code",
      "source": [
        "# 이용 건수\n",
        "\n",
        "x = df1.groupby(by='성별(GEDNER)').sum().index\n",
        "y = df1.groupby(by='성별(GEDNER)').sum()['카드이용건수계(USECT_CORR)']\n",
        "plt.title('gender vs usect')\n",
        "plt.xlabel('gender')\n",
        "plt.ylabel('usect')\n",
        "plt.pie(y, labels=x.values)\n",
        "plt.legend()\n",
        "plt.show()"
      ],
      "metadata": {
        "colab": {
          "base_uri": "https://localhost:8080/",
          "height": 315
        },
        "id": "GwBQlaBCa1TN",
        "outputId": "207e3702-570b-4995-e89e-b2ce921392c2"
      },
      "execution_count": null,
      "outputs": [
        {
          "output_type": "stream",
          "name": "stderr",
          "text": [
            "WARNING:matplotlib.font_manager:findfont: Font family ['NanumGothic'] not found. Falling back to DejaVu Sans.\n",
            "WARNING:matplotlib.font_manager:findfont: Font family ['NanumGothic'] not found. Falling back to DejaVu Sans.\n"
          ]
        },
        {
          "output_type": "display_data",
          "data": {
            "text/plain": [
              "<Figure size 432x288 with 1 Axes>"
            ],
            "image/png": "[encoded data removed]"
          },
          "metadata": {}
        }
      ]
    },
    {
      "cell_type": "code",
      "source": [
        "# 이용 금액\n",
        "\n",
        "x = df1.groupby(by='성별(GEDNER)').sum().index\n",
        "y = df1.groupby(by='성별(GEDNER)').sum()['카드이용금액계(AMT_CORR)']\n",
        "plt.title('gender vs amt')\n",
        "plt.xlabel('gender')\n",
        "plt.ylabel('amt')\n",
        "plt.pie(y, labels=x.values)\n",
        "plt.legend()\n",
        "plt.show()"
      ],
      "metadata": {
        "colab": {
          "base_uri": "https://localhost:8080/",
          "height": 278
        },
        "id": "hdF8hkQPbKiW",
        "outputId": "c0795cb4-f179-4892-9992-3009c182871c"
      },
      "execution_count": null,
      "outputs": [
        {
          "output_type": "display_data",
          "data": {
            "text/plain": [
              "<Figure size 432x288 with 1 Axes>"
            ],
            "image/png": "[encoded data removed]"
          },
          "metadata": {}
        }
      ]
    },
    {
      "cell_type": "markdown",
      "source": [
        "1.2. 연령에 따른 카드이용건수계와 이용금액합계\n",
        "40,50대가 카드를 제일 많이 이용하지만\n",
        "\n",
        "카드이용금액은 20대가 가장 많은 것을 알 수 있습니다."
      ],
      "metadata": {
        "id": "PNnbBHGEbYFh"
      }
    },
    {
      "cell_type": "code",
      "source": [
        "x = df1.groupby(by='연령대별(AGE)').sum().index\n",
        "y = df1.groupby(by='연령대별(AGE)').sum()['카드이용건수계(USECT_CORR)']\n",
        "plt.title('age vs usect')\n",
        "plt.xlabel('age')\n",
        "plt.ylabel('usect')\n",
        "plt.plot(x,y)\n",
        "plt.show()"
      ],
      "metadata": {
        "colab": {
          "base_uri": "https://localhost:8080/",
          "height": 295
        },
        "id": "eYgGuSgAbNcd",
        "outputId": "b95ac266-0145-4ab3-99ea-1fbc7b774630"
      },
      "execution_count": null,
      "outputs": [
        {
          "output_type": "display_data",
          "data": {
            "text/plain": [
              "<Figure size 432x288 with 1 Axes>"
            ],
            "image/png": "[encoded data removed]"
          },
          "metadata": {
            "needs_background": "light"
          }
        }
      ]
    },
    {
      "cell_type": "code",
      "source": [
        "x = df1.groupby(by='연령대별(AGE)').sum().index\n",
        "y = df1.groupby(by='연령대별(AGE)').sum()['카드이용금액계(AMT_CORR)']\n",
        "plt.title('age vs amt')\n",
        "plt.xlabel('age')\n",
        "plt.ylabel('amt')\n",
        "plt.plot(x,y)\n",
        "plt.show()"
      ],
      "metadata": {
        "colab": {
          "base_uri": "https://localhost:8080/",
          "height": 295
        },
        "id": "8Zwc5lhRbZd9",
        "outputId": "ead5e15b-b116-4e06-c6eb-62405f180b11"
      },
      "execution_count": null,
      "outputs": [
        {
          "output_type": "display_data",
          "data": {
            "text/plain": [
              "<Figure size 432x288 with 1 Axes>"
            ],
            "image/png": "[encoded data removed]"
          },
          "metadata": {
            "needs_background": "light"
          }
        }
      ]
    },
    {
      "cell_type": "markdown",
      "source": [
        "* 태블로로 연령대별 카드이용금액 확인해보았습니다. 위에서 확인했듯이 20대의 카드이용금액이 다른 연령대에 비해 앞선 것을 알 수 있었습니다."
      ],
      "metadata": {
        "id": "zmMIQHlAbfqZ"
      }
    },
    {
      "cell_type": "code",
      "source": [
        ""
      ],
      "metadata": {
        "id": "bxbWPEkPbbm8"
      },
      "execution_count": null,
      "outputs": []
    }
  ]
}