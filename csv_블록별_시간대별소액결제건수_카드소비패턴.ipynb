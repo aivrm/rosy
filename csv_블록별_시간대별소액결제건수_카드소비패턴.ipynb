{
  "nbformat": 4,
  "nbformat_minor": 0,
  "metadata": {
    "colab": {
      "name": "csv_블록별 시간대별소액결제건수 카드소비패턴.ipynb",
      "provenance": [],
      "collapsed_sections": [],
      "authorship_tag": "ABX9TyNlI0CTtHCZuvn8E0vmd4S8",
      "include_colab_link": true
    },
    "kernelspec": {
      "name": "python3",
      "display_name": "Python 3"
    },
    "language_info": {
      "name": "python"
    }
  },
  "cells": [
    {
      "cell_type": "markdown",
      "metadata": {
        "id": "view-in-github",
        "colab_type": "text"
      },
      "source": [
        "<a href=\"https://colab.research.google.com/github/aivrm/rosy/blob/main/csv_%EB%B8%94%EB%A1%9D%EB%B3%84_%EC%8B%9C%EA%B0%84%EB%8C%80%EB%B3%84%EC%86%8C%EC%95%A1%EA%B2%B0%EC%A0%9C%EA%B1%B4%EC%88%98_%EC%B9%B4%EB%93%9C%EC%86%8C%EB%B9%84%ED%8C%A8%ED%84%B4.ipynb\" target=\"_parent\"><img src=\"https://colab.research.google.com/assets/colab-badge.svg\" alt=\"Open In Colab\"/></a>"
      ]
    },
    {
      "cell_type": "code",
      "execution_count": 5,
      "metadata": {
        "id": "It-pJ_xROets"
      },
      "outputs": [],
      "source": [
        "csv_path = '/content/drive/MyDrive/_aiffel/_datathon_rosy/CrdCnsmptn/csv/블록별 시간대별소액결제건수 카드소비패턴.csv'"
      ]
    },
    {
      "cell_type": "code",
      "source": [
        "import pandas as pd"
      ],
      "metadata": {
        "id": "Tn4q_a-OPpKY"
      },
      "execution_count": 6,
      "outputs": []
    },
    {
      "cell_type": "code",
      "source": [
        ""
      ],
      "metadata": {
        "id": "s5vvw8CIQtxz"
      },
      "execution_count": 6,
      "outputs": []
    }
  ]
}